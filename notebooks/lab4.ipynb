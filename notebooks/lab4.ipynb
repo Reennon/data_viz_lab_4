{
 "cells": [
  {
   "cell_type": "code",
   "execution_count": 1,
   "metadata": {
    "ExecuteTime": {
     "end_time": "2024-06-26T07:28:30.871389Z",
     "start_time": "2024-06-26T07:28:30.502712Z"
    }
   },
   "outputs": [],
   "source": [
    "# region Imports\n",
    "import pandas as pd\n",
    "import numpy as np\n",
    "import plotly.express as px\n",
    "import geopandas as gpd\n",
    "from shapely.geometry import Point\n",
    "import pandas as pd\n",
    "import plotly.graph_objects as go\n",
    "import plotly.io as pio\n",
    "# endregion"
   ]
  },
  {
   "cell_type": "code",
   "execution_count": 2,
   "metadata": {
    "collapsed": false,
    "jupyter": {
     "outputs_hidden": false
    },
    "ExecuteTime": {
     "end_time": "2024-06-26T07:28:31.220952Z",
     "start_time": "2024-06-26T07:28:31.179152Z"
    }
   },
   "outputs": [
    {
     "data": {
      "text/plain": "                          time   latitude   longitude  depth   mag magType  \\\n0     2024-06-03T14:46:11.670Z  38.806000 -122.821663   3.56  0.75      md   \n1     2024-06-03T14:43:15.230Z  19.362000 -155.222672   3.13  1.74      md   \n2     2024-06-03T14:34:20.449Z  61.953100 -149.505500  18.20  1.30      ml   \n3     2024-06-03T14:30:57.060Z  19.370667 -155.227493   0.82  2.03      md   \n4     2024-06-03T14:24:55.470Z  19.168167 -155.481995  31.15  2.25      md   \n...                        ...        ...         ...    ...   ...     ...   \n9863  2024-05-04T15:04:20.323Z  59.540600 -151.977300  58.90  1.80      ml   \n9864  2024-05-04T15:00:14.740Z  33.583333 -116.807667   7.53  0.18      ml   \n9865  2024-05-04T14:58:47.080Z  33.583500 -116.805667   7.69  0.48      ml   \n9866  2024-05-04T14:49:58.580Z  32.775167 -115.443833  11.06  1.97      ml   \n9867  2024-05-04T14:49:44.720Z  47.574167 -122.852500  19.86  1.07      ml   \n\n       nst    gap      dmin   rms  ...                   updated  \\\n0      7.0  138.0  0.006533  0.01  ...  2024-06-03T14:47:50.654Z   \n1      7.0  255.0  0.013540  0.15  ...  2024-06-03T14:44:59.200Z   \n2      NaN    NaN       NaN  0.73  ...  2024-06-03T14:37:13.541Z   \n3     21.0   97.0  0.011740  0.16  ...  2024-06-03T14:32:24.870Z   \n4     35.0   95.0  0.022680  0.10  ...  2024-06-03T14:27:18.020Z   \n...    ...    ...       ...   ...  ...                       ...   \n9863   NaN    NaN       NaN  0.36  ...  2024-05-04T15:06:33.541Z   \n9864  10.0   87.0  0.037810  0.09  ...  2024-05-07T01:13:53.032Z   \n9865  15.0   73.0  0.036160  0.13  ...  2024-05-07T01:04:49.305Z   \n9866  37.0   53.0  0.030170  0.29  ...  2024-05-07T13:23:42.579Z   \n9867  10.0   99.0  0.021170  0.19  ...  2024-05-09T16:39:16.990Z   \n\n                                place        type horizontalError depthError  \\\n0          6 km NW of The Geysers, CA  earthquake            0.70       1.84   \n1           9 km S of Volcano, Hawaii  earthquake            1.09       0.40   \n2       27 km NNW of Fishhook, Alaska  earthquake             NaN       0.30   \n3           8 km S of Volcano, Hawaii  earthquake            0.27       0.19   \n4            3 km S of Pāhala, Hawaii  earthquake            0.57       0.73   \n...                               ...         ...             ...        ...   \n9863     18 km NW of Seldovia, Alaska  earthquake             NaN       0.70   \n9864            13 km WNW of Anza, CA  earthquake            0.30       0.67   \n9865            13 km WNW of Anza, CA  earthquake            0.28       0.81   \n9866         7 km SW of Holtville, CA  earthquake            0.34       0.48   \n9867  7 km SSW of Seabeck, Washington  earthquake            0.69       0.75   \n\n      magError  magNst     status  locationSource magSource  \n0     0.120000     9.0  automatic              nc        nc  \n1     0.170000     6.0  automatic              hv        hv  \n2          NaN     NaN  automatic              ak        ak  \n3     0.340000    13.0  automatic              hv        hv  \n4     0.040000     3.0  automatic              hv        hv  \n...        ...     ...        ...             ...       ...  \n9863       NaN     NaN  automatic              ak        ak  \n9864  0.051000     4.0   reviewed              ci        ci  \n9865  0.082000     5.0   reviewed              ci        ci  \n9866  0.285000    35.0   reviewed              ci        ci  \n9867  0.093771     5.0   reviewed              uw        uw  \n\n[9868 rows x 22 columns]",
      "text/html": "<div>\n<style scoped>\n    .dataframe tbody tr th:only-of-type {\n        vertical-align: middle;\n    }\n\n    .dataframe tbody tr th {\n        vertical-align: top;\n    }\n\n    .dataframe thead th {\n        text-align: right;\n    }\n</style>\n<table border=\"1\" class=\"dataframe\">\n  <thead>\n    <tr style=\"text-align: right;\">\n      <th></th>\n      <th>time</th>\n      <th>latitude</th>\n      <th>longitude</th>\n      <th>depth</th>\n      <th>mag</th>\n      <th>magType</th>\n      <th>nst</th>\n      <th>gap</th>\n      <th>dmin</th>\n      <th>rms</th>\n      <th>...</th>\n      <th>updated</th>\n      <th>place</th>\n      <th>type</th>\n      <th>horizontalError</th>\n      <th>depthError</th>\n      <th>magError</th>\n      <th>magNst</th>\n      <th>status</th>\n      <th>locationSource</th>\n      <th>magSource</th>\n    </tr>\n  </thead>\n  <tbody>\n    <tr>\n      <th>0</th>\n      <td>2024-06-03T14:46:11.670Z</td>\n      <td>38.806000</td>\n      <td>-122.821663</td>\n      <td>3.56</td>\n      <td>0.75</td>\n      <td>md</td>\n      <td>7.0</td>\n      <td>138.0</td>\n      <td>0.006533</td>\n      <td>0.01</td>\n      <td>...</td>\n      <td>2024-06-03T14:47:50.654Z</td>\n      <td>6 km NW of The Geysers, CA</td>\n      <td>earthquake</td>\n      <td>0.70</td>\n      <td>1.84</td>\n      <td>0.120000</td>\n      <td>9.0</td>\n      <td>automatic</td>\n      <td>nc</td>\n      <td>nc</td>\n    </tr>\n    <tr>\n      <th>1</th>\n      <td>2024-06-03T14:43:15.230Z</td>\n      <td>19.362000</td>\n      <td>-155.222672</td>\n      <td>3.13</td>\n      <td>1.74</td>\n      <td>md</td>\n      <td>7.0</td>\n      <td>255.0</td>\n      <td>0.013540</td>\n      <td>0.15</td>\n      <td>...</td>\n      <td>2024-06-03T14:44:59.200Z</td>\n      <td>9 km S of Volcano, Hawaii</td>\n      <td>earthquake</td>\n      <td>1.09</td>\n      <td>0.40</td>\n      <td>0.170000</td>\n      <td>6.0</td>\n      <td>automatic</td>\n      <td>hv</td>\n      <td>hv</td>\n    </tr>\n    <tr>\n      <th>2</th>\n      <td>2024-06-03T14:34:20.449Z</td>\n      <td>61.953100</td>\n      <td>-149.505500</td>\n      <td>18.20</td>\n      <td>1.30</td>\n      <td>ml</td>\n      <td>NaN</td>\n      <td>NaN</td>\n      <td>NaN</td>\n      <td>0.73</td>\n      <td>...</td>\n      <td>2024-06-03T14:37:13.541Z</td>\n      <td>27 km NNW of Fishhook, Alaska</td>\n      <td>earthquake</td>\n      <td>NaN</td>\n      <td>0.30</td>\n      <td>NaN</td>\n      <td>NaN</td>\n      <td>automatic</td>\n      <td>ak</td>\n      <td>ak</td>\n    </tr>\n    <tr>\n      <th>3</th>\n      <td>2024-06-03T14:30:57.060Z</td>\n      <td>19.370667</td>\n      <td>-155.227493</td>\n      <td>0.82</td>\n      <td>2.03</td>\n      <td>md</td>\n      <td>21.0</td>\n      <td>97.0</td>\n      <td>0.011740</td>\n      <td>0.16</td>\n      <td>...</td>\n      <td>2024-06-03T14:32:24.870Z</td>\n      <td>8 km S of Volcano, Hawaii</td>\n      <td>earthquake</td>\n      <td>0.27</td>\n      <td>0.19</td>\n      <td>0.340000</td>\n      <td>13.0</td>\n      <td>automatic</td>\n      <td>hv</td>\n      <td>hv</td>\n    </tr>\n    <tr>\n      <th>4</th>\n      <td>2024-06-03T14:24:55.470Z</td>\n      <td>19.168167</td>\n      <td>-155.481995</td>\n      <td>31.15</td>\n      <td>2.25</td>\n      <td>md</td>\n      <td>35.0</td>\n      <td>95.0</td>\n      <td>0.022680</td>\n      <td>0.10</td>\n      <td>...</td>\n      <td>2024-06-03T14:27:18.020Z</td>\n      <td>3 km S of Pāhala, Hawaii</td>\n      <td>earthquake</td>\n      <td>0.57</td>\n      <td>0.73</td>\n      <td>0.040000</td>\n      <td>3.0</td>\n      <td>automatic</td>\n      <td>hv</td>\n      <td>hv</td>\n    </tr>\n    <tr>\n      <th>...</th>\n      <td>...</td>\n      <td>...</td>\n      <td>...</td>\n      <td>...</td>\n      <td>...</td>\n      <td>...</td>\n      <td>...</td>\n      <td>...</td>\n      <td>...</td>\n      <td>...</td>\n      <td>...</td>\n      <td>...</td>\n      <td>...</td>\n      <td>...</td>\n      <td>...</td>\n      <td>...</td>\n      <td>...</td>\n      <td>...</td>\n      <td>...</td>\n      <td>...</td>\n      <td>...</td>\n    </tr>\n    <tr>\n      <th>9863</th>\n      <td>2024-05-04T15:04:20.323Z</td>\n      <td>59.540600</td>\n      <td>-151.977300</td>\n      <td>58.90</td>\n      <td>1.80</td>\n      <td>ml</td>\n      <td>NaN</td>\n      <td>NaN</td>\n      <td>NaN</td>\n      <td>0.36</td>\n      <td>...</td>\n      <td>2024-05-04T15:06:33.541Z</td>\n      <td>18 km NW of Seldovia, Alaska</td>\n      <td>earthquake</td>\n      <td>NaN</td>\n      <td>0.70</td>\n      <td>NaN</td>\n      <td>NaN</td>\n      <td>automatic</td>\n      <td>ak</td>\n      <td>ak</td>\n    </tr>\n    <tr>\n      <th>9864</th>\n      <td>2024-05-04T15:00:14.740Z</td>\n      <td>33.583333</td>\n      <td>-116.807667</td>\n      <td>7.53</td>\n      <td>0.18</td>\n      <td>ml</td>\n      <td>10.0</td>\n      <td>87.0</td>\n      <td>0.037810</td>\n      <td>0.09</td>\n      <td>...</td>\n      <td>2024-05-07T01:13:53.032Z</td>\n      <td>13 km WNW of Anza, CA</td>\n      <td>earthquake</td>\n      <td>0.30</td>\n      <td>0.67</td>\n      <td>0.051000</td>\n      <td>4.0</td>\n      <td>reviewed</td>\n      <td>ci</td>\n      <td>ci</td>\n    </tr>\n    <tr>\n      <th>9865</th>\n      <td>2024-05-04T14:58:47.080Z</td>\n      <td>33.583500</td>\n      <td>-116.805667</td>\n      <td>7.69</td>\n      <td>0.48</td>\n      <td>ml</td>\n      <td>15.0</td>\n      <td>73.0</td>\n      <td>0.036160</td>\n      <td>0.13</td>\n      <td>...</td>\n      <td>2024-05-07T01:04:49.305Z</td>\n      <td>13 km WNW of Anza, CA</td>\n      <td>earthquake</td>\n      <td>0.28</td>\n      <td>0.81</td>\n      <td>0.082000</td>\n      <td>5.0</td>\n      <td>reviewed</td>\n      <td>ci</td>\n      <td>ci</td>\n    </tr>\n    <tr>\n      <th>9866</th>\n      <td>2024-05-04T14:49:58.580Z</td>\n      <td>32.775167</td>\n      <td>-115.443833</td>\n      <td>11.06</td>\n      <td>1.97</td>\n      <td>ml</td>\n      <td>37.0</td>\n      <td>53.0</td>\n      <td>0.030170</td>\n      <td>0.29</td>\n      <td>...</td>\n      <td>2024-05-07T13:23:42.579Z</td>\n      <td>7 km SW of Holtville, CA</td>\n      <td>earthquake</td>\n      <td>0.34</td>\n      <td>0.48</td>\n      <td>0.285000</td>\n      <td>35.0</td>\n      <td>reviewed</td>\n      <td>ci</td>\n      <td>ci</td>\n    </tr>\n    <tr>\n      <th>9867</th>\n      <td>2024-05-04T14:49:44.720Z</td>\n      <td>47.574167</td>\n      <td>-122.852500</td>\n      <td>19.86</td>\n      <td>1.07</td>\n      <td>ml</td>\n      <td>10.0</td>\n      <td>99.0</td>\n      <td>0.021170</td>\n      <td>0.19</td>\n      <td>...</td>\n      <td>2024-05-09T16:39:16.990Z</td>\n      <td>7 km SSW of Seabeck, Washington</td>\n      <td>earthquake</td>\n      <td>0.69</td>\n      <td>0.75</td>\n      <td>0.093771</td>\n      <td>5.0</td>\n      <td>reviewed</td>\n      <td>uw</td>\n      <td>uw</td>\n    </tr>\n  </tbody>\n</table>\n<p>9868 rows × 22 columns</p>\n</div>"
     },
     "execution_count": 2,
     "metadata": {},
     "output_type": "execute_result"
    }
   ],
   "source": [
    "# region Data Ingestion\n",
    "# Retrieve USGS Dataset\n",
    "usgs_df = pd.read_csv(\"../data/all_month.csv\")\n",
    "\n",
    "# endregion\n",
    "usgs_df"
   ]
  },
  {
   "cell_type": "code",
   "execution_count": 27,
   "outputs": [
    {
     "name": "stdout",
     "output_type": "stream",
     "text": [
      "Collecting dash\r\n",
      "  Downloading dash-2.17.1-py3-none-any.whl.metadata (10 kB)\r\n",
      "Collecting Flask<3.1,>=1.0.4 (from dash)\r\n",
      "  Downloading flask-3.0.3-py3-none-any.whl.metadata (3.2 kB)\r\n",
      "Collecting Werkzeug<3.1 (from dash)\r\n",
      "  Downloading werkzeug-3.0.3-py3-none-any.whl.metadata (3.7 kB)\r\n",
      "Requirement already satisfied: plotly>=5.0.0 in /Users/rkovalch/miniconda3/envs/cv-env/lib/python3.10/site-packages (from dash) (5.22.0)\r\n",
      "Collecting dash-html-components==2.0.0 (from dash)\r\n",
      "  Downloading dash_html_components-2.0.0-py3-none-any.whl.metadata (3.8 kB)\r\n",
      "Collecting dash-core-components==2.0.0 (from dash)\r\n",
      "  Downloading dash_core_components-2.0.0-py3-none-any.whl.metadata (2.9 kB)\r\n",
      "Collecting dash-table==5.0.0 (from dash)\r\n",
      "  Downloading dash_table-5.0.0-py3-none-any.whl.metadata (2.4 kB)\r\n",
      "Requirement already satisfied: importlib-metadata in /Users/rkovalch/miniconda3/envs/cv-env/lib/python3.10/site-packages (from dash) (7.1.0)\r\n",
      "Requirement already satisfied: typing-extensions>=4.1.1 in /Users/rkovalch/miniconda3/envs/cv-env/lib/python3.10/site-packages (from dash) (4.11.0)\r\n",
      "Requirement already satisfied: requests in /Users/rkovalch/miniconda3/envs/cv-env/lib/python3.10/site-packages (from dash) (2.32.1)\r\n",
      "Collecting retrying (from dash)\r\n",
      "  Downloading retrying-1.3.4-py3-none-any.whl.metadata (6.9 kB)\r\n",
      "Requirement already satisfied: nest-asyncio in /Users/rkovalch/miniconda3/envs/cv-env/lib/python3.10/site-packages (from dash) (1.6.0)\r\n",
      "Requirement already satisfied: setuptools in /Users/rkovalch/miniconda3/envs/cv-env/lib/python3.10/site-packages (from dash) (70.0.0)\r\n",
      "Requirement already satisfied: Jinja2>=3.1.2 in /Users/rkovalch/miniconda3/envs/cv-env/lib/python3.10/site-packages (from Flask<3.1,>=1.0.4->dash) (3.1.4)\r\n",
      "Collecting itsdangerous>=2.1.2 (from Flask<3.1,>=1.0.4->dash)\r\n",
      "  Downloading itsdangerous-2.2.0-py3-none-any.whl.metadata (1.9 kB)\r\n",
      "Requirement already satisfied: click>=8.1.3 in /Users/rkovalch/miniconda3/envs/cv-env/lib/python3.10/site-packages (from Flask<3.1,>=1.0.4->dash) (8.1.7)\r\n",
      "Collecting blinker>=1.6.2 (from Flask<3.1,>=1.0.4->dash)\r\n",
      "  Downloading blinker-1.8.2-py3-none-any.whl.metadata (1.6 kB)\r\n",
      "Requirement already satisfied: tenacity>=6.2.0 in /Users/rkovalch/miniconda3/envs/cv-env/lib/python3.10/site-packages (from plotly>=5.0.0->dash) (8.3.0)\r\n",
      "Requirement already satisfied: packaging in /Users/rkovalch/miniconda3/envs/cv-env/lib/python3.10/site-packages (from plotly>=5.0.0->dash) (24.0)\r\n",
      "Requirement already satisfied: MarkupSafe>=2.1.1 in /Users/rkovalch/miniconda3/envs/cv-env/lib/python3.10/site-packages (from Werkzeug<3.1->dash) (2.1.5)\r\n",
      "Requirement already satisfied: zipp>=0.5 in /Users/rkovalch/miniconda3/envs/cv-env/lib/python3.10/site-packages (from importlib-metadata->dash) (3.18.2)\r\n",
      "Requirement already satisfied: charset-normalizer<4,>=2 in /Users/rkovalch/miniconda3/envs/cv-env/lib/python3.10/site-packages (from requests->dash) (3.3.2)\r\n",
      "Requirement already satisfied: idna<4,>=2.5 in /Users/rkovalch/miniconda3/envs/cv-env/lib/python3.10/site-packages (from requests->dash) (3.7)\r\n",
      "Requirement already satisfied: urllib3<3,>=1.21.1 in /Users/rkovalch/miniconda3/envs/cv-env/lib/python3.10/site-packages (from requests->dash) (2.2.1)\r\n",
      "Requirement already satisfied: certifi>=2017.4.17 in /Users/rkovalch/miniconda3/envs/cv-env/lib/python3.10/site-packages (from requests->dash) (2024.2.2)\r\n",
      "Requirement already satisfied: six>=1.7.0 in /Users/rkovalch/miniconda3/envs/cv-env/lib/python3.10/site-packages (from retrying->dash) (1.16.0)\r\n",
      "Downloading dash-2.17.1-py3-none-any.whl (7.5 MB)\r\n",
      "\u001B[2K   \u001B[90m━━━━━━━━━━━━━━━━━━━━━━━━━━━━━━━━━━━━━━━━\u001B[0m \u001B[32m7.5/7.5 MB\u001B[0m \u001B[31m19.1 MB/s\u001B[0m eta \u001B[36m0:00:00\u001B[0m00:01\u001B[0m00:01\u001B[0m\r\n",
      "\u001B[?25hDownloading dash_core_components-2.0.0-py3-none-any.whl (3.8 kB)\r\n",
      "Downloading dash_html_components-2.0.0-py3-none-any.whl (4.1 kB)\r\n",
      "Downloading dash_table-5.0.0-py3-none-any.whl (3.9 kB)\r\n",
      "Downloading flask-3.0.3-py3-none-any.whl (101 kB)\r\n",
      "\u001B[2K   \u001B[90m━━━━━━━━━━━━━━━━━━━━━━━━━━━━━━━━━━━━━━━━\u001B[0m \u001B[32m101.7/101.7 kB\u001B[0m \u001B[31m11.2 MB/s\u001B[0m eta \u001B[36m0:00:00\u001B[0m\r\n",
      "\u001B[?25hDownloading werkzeug-3.0.3-py3-none-any.whl (227 kB)\r\n",
      "\u001B[2K   \u001B[90m━━━━━━━━━━━━━━━━━━━━━━━━━━━━━━━━━━━━━━━━\u001B[0m \u001B[32m227.3/227.3 kB\u001B[0m \u001B[31m33.6 MB/s\u001B[0m eta \u001B[36m0:00:00\u001B[0m\r\n",
      "\u001B[?25hDownloading retrying-1.3.4-py3-none-any.whl (11 kB)\r\n",
      "Downloading blinker-1.8.2-py3-none-any.whl (9.5 kB)\r\n",
      "Downloading itsdangerous-2.2.0-py3-none-any.whl (16 kB)\r\n",
      "Installing collected packages: dash-table, dash-html-components, dash-core-components, Werkzeug, retrying, itsdangerous, blinker, Flask, dash\r\n",
      "Successfully installed Flask-3.0.3 Werkzeug-3.0.3 blinker-1.8.2 dash-2.17.1 dash-core-components-2.0.0 dash-html-components-2.0.0 dash-table-5.0.0 itsdangerous-2.2.0 retrying-1.3.4\r\n"
     ]
    }
   ],
   "source": [
    "!pip install dash"
   ],
   "metadata": {
    "collapsed": false,
    "ExecuteTime": {
     "end_time": "2024-06-26T08:01:24.441947Z",
     "start_time": "2024-06-26T08:01:20.222640Z"
    }
   }
  },
  {
   "cell_type": "code",
   "execution_count": 49,
   "metadata": {
    "collapsed": false,
    "jupyter": {
     "outputs_hidden": false
    },
    "ExecuteTime": {
     "end_time": "2024-06-26T08:50:26.412346Z",
     "start_time": "2024-06-26T08:50:26.322535Z"
    }
   },
   "outputs": [
    {
     "data": {
      "text/plain": "<IPython.lib.display.IFrame at 0x3327dcdf0>",
      "text/html": "\n        <iframe\n            width=\"100%\"\n            height=\"650\"\n            src=\"http://127.0.0.1:8050/\"\n            frameborder=\"0\"\n            allowfullscreen\n            \n        ></iframe>\n        "
     },
     "metadata": {},
     "output_type": "display_data"
    }
   ],
   "source": [
    "import dash\n",
    "import dash_core_components as dcc\n",
    "import dash_html_components as html\n",
    "from dash.dependencies import Input, Output\n",
    "import pandas as pd\n",
    "import plotly.express as px\n",
    "\n",
    "# Load your dataset\n",
    "df = pd.read_csv(\"../data/all_month.csv\")\n",
    "df['time'] = pd.to_datetime(df['time'])\n",
    "df['date'] = df['time'].dt.date\n",
    "df['mag_size'] = df['mag'].clip(0.1)\n",
    "\n",
    "app = dash.Dash(__name__)\n",
    "\n",
    "app.layout = html.Div([\n",
    "    dcc.Graph(id='map-plot', config={'scrollZoom': True}),\n",
    "    dcc.Graph(id='time-series-plot'),\n",
    "    dcc.Graph(id='magnitude-distribution-plot')\n",
    "])\n",
    "\n",
    "@app.callback(\n",
    "    [\n",
    "        Output('map-plot', 'figure'),\n",
    "        Output('time-series-plot', 'figure')\n",
    "    ],\n",
    "    [\n",
    "        Input('magnitude-distribution-plot', 'selectedData'),\n",
    "        Input('time-series-plot', 'relayoutData')\n",
    "    ]\n",
    ")\n",
    "def update_map_and_time_series(selectedMagData, selectedTimeData):\n",
    "    filtered_df = df\n",
    "\n",
    "    # Handle time range selection from the time-series plot\n",
    "    if selectedTimeData and 'xaxis.range[0]' in selectedTimeData:\n",
    "        start_date = pd.to_datetime(selectedTimeData['xaxis.range[0]']).date()\n",
    "        end_date = pd.to_datetime(selectedTimeData['xaxis.range[1]']).date()\n",
    "        filtered_df = filtered_df[(df['date'] >= start_date) & (df['date'] <= end_date)]\n",
    "\n",
    "    # Handle magnitude selection from the magnitude distribution plot\n",
    "    if selectedMagData:\n",
    "        selected_mags = [point['x'] for point in selectedMagData['points']]\n",
    "        filtered_df = filtered_df[df['mag'].isin(selected_mags)]\n",
    "\n",
    "    # Update map\n",
    "    map_fig = px.scatter_geo(\n",
    "        filtered_df,\n",
    "        height=900,\n",
    "        lat='latitude',\n",
    "        lon='longitude',\n",
    "        color='mag',\n",
    "        hover_name='place',\n",
    "        size='mag_size',\n",
    "        projection='natural earth',\n",
    "        title='Map of Earthquakes'\n",
    "    )\n",
    "\n",
    "    # Update time series plot\n",
    "    time_series_fig = px.line(\n",
    "        filtered_df.groupby('date').size().reset_index(name='count'),\n",
    "        x='date',\n",
    "        y='count',\n",
    "        title='Number of Earthquakes Over Time'\n",
    "    )\n",
    "\n",
    "    return map_fig, time_series_fig\n",
    "\n",
    "@app.callback(\n",
    "    Output('magnitude-distribution-plot', 'figure'),\n",
    "    [Input('map-plot', 'selectedData')]\n",
    ")\n",
    "def update_magnitude_distribution(selectedData):\n",
    "    if selectedData:\n",
    "        points = selectedData['points']\n",
    "        lats = [point['lat'] for point in points]\n",
    "        lons = [point['lon'] for point in points]\n",
    "        filtered_df = df[df['latitude'].isin(lats) & df['longitude'].isin(lons)]\n",
    "    else:\n",
    "        filtered_df = df\n",
    "\n",
    "    mag_dist_fig = px.histogram(\n",
    "        filtered_df,\n",
    "        x='mag',\n",
    "        nbins=40,\n",
    "        title='Distribution of Earthquake Magnitudes'\n",
    "    )\n",
    "\n",
    "    return mag_dist_fig\n",
    "\n",
    "if __name__ == '__main__':\n",
    "    app.run_server(debug=True)\n"
   ]
  },
  {
   "cell_type": "code",
   "execution_count": 17,
   "outputs": [
    {
     "data": {
      "text/plain": "date\n2024-05-04    139\n2024-05-05    364\n2024-05-06    419\n2024-05-07    380\n2024-05-08    299\n2024-05-09    355\n2024-05-10    303\n2024-05-11    264\n2024-05-12    346\n2024-05-13    382\n2024-05-14    351\n2024-05-15    323\n2024-05-16    288\n2024-05-17    346\n2024-05-18    547\n2024-05-19    448\n2024-05-20    317\n2024-05-21    304\n2024-05-22    251\n2024-05-23    257\n2024-05-24    334\n2024-05-25    249\n2024-05-26    289\n2024-05-27    304\n2024-05-28    309\n2024-05-29    233\n2024-05-30    258\n2024-05-31    256\n2024-06-01    263\n2024-06-02    314\n2024-06-03    376\nName: s, dtype: int64"
     },
     "execution_count": 17,
     "metadata": {},
     "output_type": "execute_result"
    }
   ],
   "source": [
    "df.groupby('date').size().rename(\"mag\")"
   ],
   "metadata": {
    "collapsed": false,
    "ExecuteTime": {
     "end_time": "2024-06-26T07:33:47.041368Z",
     "start_time": "2024-06-26T07:33:47.038313Z"
    }
   }
  }
 ],
 "metadata": {
  "kernelspec": {
   "display_name": "Python 3 (ipykernel)",
   "language": "python",
   "name": "python3"
  },
  "language_info": {
   "codemirror_mode": {
    "name": "ipython",
    "version": 3
   },
   "file_extension": ".py",
   "mimetype": "text/x-python",
   "name": "python",
   "nbconvert_exporter": "python",
   "pygments_lexer": "ipython3",
   "version": "3.10.14"
  }
 },
 "nbformat": 4,
 "nbformat_minor": 4
}
